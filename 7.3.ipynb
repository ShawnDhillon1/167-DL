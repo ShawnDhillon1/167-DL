{
  "nbformat": 4,
  "nbformat_minor": 0,
  "metadata": {
    "colab": {
      "provenance": [],
      "include_colab_link": true
    },
    "kernelspec": {
      "name": "python3",
      "display_name": "Python 3"
    },
    "language_info": {
      "name": "python"
    }
  },
  "cells": [
    {
      "cell_type": "markdown",
      "metadata": {
        "id": "view-in-github",
        "colab_type": "text"
      },
      "source": [
        "<a href=\"https://colab.research.google.com/github/ShawnDhillon1/167-DL/blob/main/7.3.ipynb\" target=\"_parent\"><img src=\"https://colab.research.google.com/assets/colab-badge.svg\" alt=\"Open In Colab\"/></a>"
      ]
    },
    {
      "cell_type": "markdown",
      "source": [
        "# **Notebook 7.3: Initialization**\n",
        "\n",
        "This notebook explores weight initialization in deep neural networks as described in section 7.5 of the book.\n",
        "\n",
        "Work through the cells below, running each cell in turn. In various places you will see the words \"TODO\". Follow the instructions at these places and make predictions about what is going to happen or write code to complete the functions.\n",
        "\n",
        "Contact me at udlbookmail@gmail.com if you find any mistakes or have any suggestions."
      ],
      "metadata": {
        "id": "L6chybAVFJW2"
      }
    },
    {
      "cell_type": "code",
      "execution_count": 1,
      "metadata": {
        "id": "LdIDglk1FFcG"
      },
      "outputs": [],
      "source": [
        "import numpy as np\n",
        "import matplotlib.pyplot as plt"
      ]
    },
    {
      "cell_type": "markdown",
      "source": [
        "First let's define a neural network.  We'll just choose the weights and biases randomly for now"
      ],
      "metadata": {
        "id": "nnUoI0m6GyjC"
      }
    },
    {
      "cell_type": "code",
      "source": [
        "def init_params(K, D, sigma_sq_omega):\n",
        "  # Set seed so we always get the same random numbers\n",
        "  np.random.seed(0)\n",
        "\n",
        "  # Input layer\n",
        "  D_i = 1\n",
        "  # Output layer\n",
        "  D_o = 1\n",
        "\n",
        "  # Make empty lists\n",
        "  all_weights = [None] * (K+1)\n",
        "  all_biases = [None] * (K+1)\n",
        "\n",
        "  # Create input and output layers\n",
        "  all_weights[0] = np.random.normal(size=(D, D_i))*np.sqrt(sigma_sq_omega)\n",
        "  all_weights[-1] = np.random.normal(size=(D_o, D)) * np.sqrt(sigma_sq_omega)\n",
        "  all_biases[0] = np.zeros((D,1))\n",
        "  all_biases[-1]= np.zeros((D_o,1))\n",
        "\n",
        "  # Create intermediate layers\n",
        "  for layer in range(1,K):\n",
        "    all_weights[layer] = np.random.normal(size=(D,D))*np.sqrt(sigma_sq_omega)\n",
        "    all_biases[layer] = np.zeros((D,1))\n",
        "\n",
        "  return all_weights, all_biases"
      ],
      "metadata": {
        "id": "WVM4Tc_jGI0Q"
      },
      "execution_count": 2,
      "outputs": []
    },
    {
      "cell_type": "code",
      "source": [
        "# Define the Rectified Linear Unit (ReLU) function\n",
        "def ReLU(preactivation):\n",
        "  activation = preactivation.clip(0.0)\n",
        "  return activation"
      ],
      "metadata": {
        "id": "jZh-7bPXIDq4"
      },
      "execution_count": 3,
      "outputs": []
    },
    {
      "cell_type": "code",
      "source": [
        "def compute_network_output(net_input, all_weights, all_biases):\n",
        "\n",
        "  # Retrieve number of layers\n",
        "  K = len(all_weights)-1\n",
        "\n",
        "  # We'll store the pre-activations at each layer in a list \"all_f\"\n",
        "  # and the activations in a second list \"all_h\".\n",
        "  all_f = [None] * (K+1)\n",
        "  all_h = [None] * (K+1)\n",
        "\n",
        "  #For convenience, we'll set\n",
        "  # all_h[0] to be the input, and all_f[K] will be the output\n",
        "  all_h[0] = net_input\n",
        "\n",
        "  # Run through the layers, calculating all_f[0...K-1] and all_h[1...K]\n",
        "  for layer in range(K):\n",
        "      # Update preactivations and activations at this layer according to eqn 7.5\n",
        "      all_f[layer] = all_biases[layer] + np.matmul(all_weights[layer], all_h[layer])\n",
        "      all_h[layer+1] = ReLU(all_f[layer])\n",
        "\n",
        "  # Compute the output from the last hidden layer\n",
        "  all_f[K] = all_biases[K] + np.matmul(all_weights[K], all_h[K])\n",
        "\n",
        "  # Retrieve the output\n",
        "  net_output = all_f[K]\n",
        "\n",
        "  return net_output, all_f, all_h"
      ],
      "metadata": {
        "id": "LgquJUJvJPaN"
      },
      "execution_count": 4,
      "outputs": []
    },
    {
      "cell_type": "markdown",
      "source": [
        "Now let's investigate how the size of the outputs vary as we change the initialization variance:\n"
      ],
      "metadata": {
        "id": "bIUrcXnOqChl"
      }
    },
    {
      "cell_type": "code",
      "source": [
        "# Number of layers\n",
        "K = 50\n",
        "# Number of neurons per layer\n",
        "D = 80\n",
        "# Input layer\n",
        "D_i = 1\n",
        "# Output layer\n",
        "D_o = 1\n",
        "# Set variance of initial weights to 1\n",
        "sigma_sq_omega = 2.5\n",
        "# Initialize parameters\n",
        "all_weights, all_biases = init_params(K,D,sigma_sq_omega)\n",
        "\n",
        "n_data = 1000\n",
        "data_in = np.random.normal(size=(1,n_data))\n",
        "net_output, all_f, all_h = compute_network_output(data_in, all_weights, all_biases)\n",
        "\n",
        "for layer in range(1,K+1):\n",
        "  print(\"Layer %d, std of hidden units = %3.3f\"%(layer, np.std(all_h[layer])))"
      ],
      "metadata": {
        "id": "A55z3rKBqO7M",
        "outputId": "cdbc2e72-1e4b-4ba0-f721-88f03113a9ba",
        "colab": {
          "base_uri": "https://localhost:8080/"
        }
      },
      "execution_count": 7,
      "outputs": [
        {
          "output_type": "stream",
          "name": "stdout",
          "text": [
            "Layer 1, std of hidden units = 0.984\n",
            "Layer 2, std of hidden units = 7.770\n",
            "Layer 3, std of hidden units = 83.306\n",
            "Layer 4, std of hidden units = 1010.237\n",
            "Layer 5, std of hidden units = 11123.129\n",
            "Layer 6, std of hidden units = 98735.501\n",
            "Layer 7, std of hidden units = 920906.261\n",
            "Layer 8, std of hidden units = 9507336.476\n",
            "Layer 9, std of hidden units = 82752558.967\n",
            "Layer 10, std of hidden units = 719358828.023\n",
            "Layer 11, std of hidden units = 7566949637.249\n",
            "Layer 12, std of hidden units = 66612638344.223\n",
            "Layer 13, std of hidden units = 649302838070.840\n",
            "Layer 14, std of hidden units = 6510395664498.943\n",
            "Layer 15, std of hidden units = 63788242921482.125\n",
            "Layer 16, std of hidden units = 655622874834497.875\n",
            "Layer 17, std of hidden units = 6970584185551316.000\n",
            "Layer 18, std of hidden units = 74851148289808352.000\n",
            "Layer 19, std of hidden units = 734570923440164096.000\n",
            "Layer 20, std of hidden units = 9535663885916424192.000\n",
            "Layer 21, std of hidden units = 80437143659901370368.000\n",
            "Layer 22, std of hidden units = 806513329452024725504.000\n",
            "Layer 23, std of hidden units = 8498660970325709160448.000\n",
            "Layer 24, std of hidden units = 97025669244543909756928.000\n",
            "Layer 25, std of hidden units = 1061910403728169710387200.000\n",
            "Layer 26, std of hidden units = 10076881188428655143944192.000\n",
            "Layer 27, std of hidden units = 85990478874039760690610176.000\n",
            "Layer 28, std of hidden units = 834713005591793296685924352.000\n",
            "Layer 29, std of hidden units = 10361956516686985302407905280.000\n",
            "Layer 30, std of hidden units = 118810437527198648160334381056.000\n",
            "Layer 31, std of hidden units = 991307927640498160810747494400.000\n",
            "Layer 32, std of hidden units = 7017436220666263267518755897344.000\n",
            "Layer 33, std of hidden units = 66478577981768275935732288192512.000\n",
            "Layer 34, std of hidden units = 662661291941325835138964429733888.000\n",
            "Layer 35, std of hidden units = 6845229623898617697842107447771136.000\n",
            "Layer 36, std of hidden units = 61295344260133320022247660377341952.000\n",
            "Layer 37, std of hidden units = 671055796452505386934334530193981440.000\n",
            "Layer 38, std of hidden units = 5760228229337303461666409992949858304.000\n",
            "Layer 39, std of hidden units = 57390069625692354367216601438412079104.000\n",
            "Layer 40, std of hidden units = 584512597214974959337120152946753929216.000\n",
            "Layer 41, std of hidden units = 6294046508059681280483451868982020145152.000\n",
            "Layer 42, std of hidden units = 69004984045366032006142535105443660824576.000\n",
            "Layer 43, std of hidden units = 638538325575085382309381269134621429202944.000\n",
            "Layer 44, std of hidden units = 6769178652604060643724566870279162385399808.000\n",
            "Layer 45, std of hidden units = 80198959180122950654348251867738079211028480.000\n",
            "Layer 46, std of hidden units = 763325111963568867554441422276978719020023808.000\n",
            "Layer 47, std of hidden units = 8084958677846668907910813192884531571718094848.000\n",
            "Layer 48, std of hidden units = 68196943847822204240975206490285944009482305536.000\n",
            "Layer 49, std of hidden units = 630316327568417667324524737509533374243154165760.000\n",
            "Layer 50, std of hidden units = 6689924195559153992390921566813553617468521447424.000\n"
          ]
        }
      ]
    },
    {
      "cell_type": "code",
      "source": [
        "# You can see that the values of the hidden units are increasing on average (the variance is across all hidden units at the layer\n",
        "# and the 1000 training examples\n",
        "\n",
        "# TODO\n",
        "# Change this to 50 layers with 80 hidden units per layer\n",
        "\n",
        "# TODO\n",
        "# Now experiment with sigma_sq_omega to try to stop the variance of the forward computation exploding"
      ],
      "metadata": {
        "id": "VL_SO4tar3DC"
      },
      "execution_count": 8,
      "outputs": []
    },
    {
      "cell_type": "markdown",
      "source": [
        "Now let's define a loss function.  We'll just use the least squares loss function. We'll also write a function to compute dloss_doutput\n"
      ],
      "metadata": {
        "id": "SxVTKp3IcoBF"
      }
    },
    {
      "cell_type": "code",
      "source": [
        "def least_squares_loss(net_output, y):\n",
        "  return np.sum((net_output-y) * (net_output-y))\n",
        "\n",
        "def d_loss_d_output(net_output, y):\n",
        "    return 2*(net_output -y);"
      ],
      "metadata": {
        "id": "6XqWSYWJdhQR"
      },
      "execution_count": 9,
      "outputs": []
    },
    {
      "cell_type": "markdown",
      "source": [
        "Here's the code for the backward pass"
      ],
      "metadata": {
        "id": "98WmyqFYWA-0"
      }
    },
    {
      "cell_type": "code",
      "source": [
        "# We'll need the indicator function\n",
        "def indicator_function(x):\n",
        "  x_in = np.array(x)\n",
        "  x_in[x_in>=0] = 1\n",
        "  x_in[x_in<0] = 0\n",
        "  return x_in\n",
        "\n",
        "# Main backward pass routine\n",
        "def backward_pass(all_weights, all_biases, all_f, all_h, y):\n",
        "  # Retrieve number of layers\n",
        "  K = len(all_weights) - 1\n",
        "\n",
        "  # We'll store the derivatives dl_dweights and dl_dbiases in lists as well\n",
        "  all_dl_dweights = [None] * (K+1)\n",
        "  all_dl_dbiases = [None] * (K+1)\n",
        "  # And we'll store the derivatives of the loss with respect to the activation and preactivations in lists\n",
        "  all_dl_df = [None] * (K+1)\n",
        "  all_dl_dh = [None] * (K+1)\n",
        "  # Again for convenience we'll stick with the convention that all_h[0] is the net input and all_f[k] in the net output\n",
        "\n",
        "  # Compute derivatives of net output with respect to loss\n",
        "  all_dl_df[K] = np.array(d_loss_d_output(all_f[K],y))\n",
        "\n",
        "  # Now work backwards through the network\n",
        "  for layer in range(K,-1,-1):\n",
        "    # Calculate the derivatives of biases at layer from all_dl_df[K]. (eq 7.13, line 1)\n",
        "    all_dl_dbiases[layer] = np.array(all_dl_df[layer])\n",
        "    # Calculate the derivatives of weight at layer from all_dl_df[K] and all_h[K] (eq 7.13, line 2)\n",
        "    all_dl_dweights[layer] = np.matmul(all_dl_df[layer], all_h[layer].transpose())\n",
        "\n",
        "    # Calculate the derivatives of activations from weight and derivatives of next preactivations (eq 7.13, line 3 second part)\n",
        "    all_dl_dh[layer] = np.matmul(all_weights[layer].transpose(), all_dl_df[layer])\n",
        "    # Calculate the derivatives of the pre-activation f with respect to activation h (eq 7.13, line 3, first part)\n",
        "    if layer > 0:\n",
        "      all_dl_df[layer-1] = indicator_function(all_f[layer-1]) * all_dl_dh[layer]\n",
        "\n",
        "  return all_dl_dweights, all_dl_dbiases, all_dl_dh, all_dl_df"
      ],
      "metadata": {
        "id": "LJng7WpRPLMz"
      },
      "execution_count": 10,
      "outputs": []
    },
    {
      "cell_type": "markdown",
      "source": [
        "Now let's look at what happens to the magnitude of the gradients on the way back."
      ],
      "metadata": {
        "id": "phFnbthqwhFi"
      }
    },
    {
      "cell_type": "code",
      "source": [
        "# Number of layers\n",
        "K = 50\n",
        "# Number of neurons per layer\n",
        "D = 80\n",
        "# Input layer\n",
        "D_i = 1\n",
        "# Output layer\n",
        "D_o = 1\n",
        "# Set variance of initial weights to 1\n",
        "sigma_sq_omega = 0.3\n",
        "# Initialize parameters\n",
        "all_weights, all_biases = init_params(K,D,sigma_sq_omega)\n",
        "\n",
        "# For simplicity we'll just consider the gradients of the weights and biases between the first and last hidden layer\n",
        "n_data = 100\n",
        "aggregate_dl_df = [None] * (K+1)\n",
        "for layer in range(1,K):\n",
        "  # These 3D arrays will store the gradients for every data point\n",
        "  aggregate_dl_df[layer] = np.zeros((D,n_data))\n",
        "\n",
        "\n",
        "# We'll have to compute the derivatives of the parameters for each data point separately\n",
        "for c_data in range(n_data):\n",
        "  data_in = np.random.normal(size=(1,1))\n",
        "  y = np.zeros((1,1))\n",
        "  net_output, all_f, all_h = compute_network_output(data_in, all_weights, all_biases)\n",
        "  all_dl_dweights, all_dl_dbiases, all_dl_dh, all_dl_df = backward_pass(all_weights, all_biases, all_f, all_h, y)\n",
        "  for layer in range(1,K):\n",
        "    aggregate_dl_df[layer][:,c_data] = np.squeeze(all_dl_df[layer])\n",
        "\n",
        "for layer in range(1,K):\n",
        "  print(\"Layer %d, std of dl_dh = %3.3f\"%(layer, np.std(aggregate_dl_df[layer].ravel())))\n"
      ],
      "metadata": {
        "id": "9A9MHc4sQvbp",
        "outputId": "45e6ec9e-bb9d-4877-c3d3-228e655eefaf",
        "colab": {
          "base_uri": "https://localhost:8080/"
        }
      },
      "execution_count": 12,
      "outputs": [
        {
          "output_type": "stream",
          "name": "stdout",
          "text": [
            "Layer 1, std of dl_dh = 27740738480043098281189462566672377425738797292716032.000\n",
            "Layer 2, std of dl_dh = 8444783689089236043511207420680003982757435256340480.000\n",
            "Layer 3, std of dl_dh = 2782012125523296002796305287599063188298388511653888.000\n",
            "Layer 4, std of dl_dh = 786959898928628918091906565602132012689111629430784.000\n",
            "Layer 5, std of dl_dh = 211969983700188599663620852748465875153355320328192.000\n",
            "Layer 6, std of dl_dh = 63658423578008274656936943155013331975092219936768.000\n",
            "Layer 7, std of dl_dh = 19220901197610567359369435030244388893670590382080.000\n",
            "Layer 8, std of dl_dh = 4965619733063731058908894883315027364106509221888.000\n",
            "Layer 9, std of dl_dh = 1438250646560206428241164848822801942491747581952.000\n",
            "Layer 10, std of dl_dh = 471975735100679000786420243565379765315265626112.000\n",
            "Layer 11, std of dl_dh = 138973602469660540743375366277045960292178067456.000\n",
            "Layer 12, std of dl_dh = 40333822022184386454950118276185455173939757056.000\n",
            "Layer 13, std of dl_dh = 10635138049116439531202027198303868781770833920.000\n",
            "Layer 14, std of dl_dh = 3188519927596692035601106440960863393728692224.000\n",
            "Layer 15, std of dl_dh = 964274045437621290544446659329482652515303424.000\n",
            "Layer 16, std of dl_dh = 253398439022306612790205650386805097200877568.000\n",
            "Layer 17, std of dl_dh = 62544044068039656611290482381860693830795264.000\n",
            "Layer 18, std of dl_dh = 18304163197699418015747063704214705694310400.000\n",
            "Layer 19, std of dl_dh = 4734796447397688167413491529409381349195776.000\n",
            "Layer 20, std of dl_dh = 1679360878084874820932957791463413471248384.000\n",
            "Layer 21, std of dl_dh = 445688479507146224627892320592957104193536.000\n",
            "Layer 22, std of dl_dh = 114001058294269290487964596598898308415488.000\n",
            "Layer 23, std of dl_dh = 34043274969653223446833702547553997815808.000\n",
            "Layer 24, std of dl_dh = 8635834569967157894649652530278979076096.000\n",
            "Layer 25, std of dl_dh = 2557212733973655849635642722659545907200.000\n",
            "Layer 26, std of dl_dh = 1028765895950839347737644693896994750464.000\n",
            "Layer 27, std of dl_dh = 245965795015513396468089729244035284992.000\n",
            "Layer 28, std of dl_dh = 78657090724747540615523301005144883200.000\n",
            "Layer 29, std of dl_dh = 24548505015981574150993999085858455552.000\n",
            "Layer 30, std of dl_dh = 7662567050941350928126126889977774080.000\n",
            "Layer 31, std of dl_dh = 2268256065050466937225155279832743936.000\n",
            "Layer 32, std of dl_dh = 632813809722671621320543141479055360.000\n",
            "Layer 33, std of dl_dh = 193199114858524755925199413609234432.000\n",
            "Layer 34, std of dl_dh = 62790419078458471418946994833457152.000\n",
            "Layer 35, std of dl_dh = 16891324265235997122656791416537088.000\n",
            "Layer 36, std of dl_dh = 4939159374281733913107067681374208.000\n",
            "Layer 37, std of dl_dh = 1255661185560630777632549133877248.000\n",
            "Layer 38, std of dl_dh = 349562195201607228949769110945792.000\n",
            "Layer 39, std of dl_dh = 90270144837625209031667560218624.000\n",
            "Layer 40, std of dl_dh = 29122202155608934526007352754176.000\n",
            "Layer 41, std of dl_dh = 8328389179705753006536048771072.000\n",
            "Layer 42, std of dl_dh = 2899190770927897751486906499072.000\n",
            "Layer 43, std of dl_dh = 917066413716097805824766771200.000\n",
            "Layer 44, std of dl_dh = 290066422577144474335017172992.000\n",
            "Layer 45, std of dl_dh = 90364972167606101636045340672.000\n",
            "Layer 46, std of dl_dh = 25008617225364858453757001728.000\n",
            "Layer 47, std of dl_dh = 7366483958208030872906498048.000\n",
            "Layer 48, std of dl_dh = 1950781785339189592596676608.000\n",
            "Layer 49, std of dl_dh = 478324492790593227036033024.000\n"
          ]
        }
      ]
    },
    {
      "cell_type": "code",
      "source": [
        "# You can see that the gradients of the hidden units are increasing on average (the standard deviation is across all hidden units at the layer\n",
        "# and the 100 training examples\n",
        "\n",
        "# TODO\n",
        "# Change this to 50 layers with 80 hidden units per layer\n",
        "\n",
        "# TODO\n",
        "# Now experiment with sigma_sq_omega to try to stop the variance of the gradients exploding\n"
      ],
      "metadata": {
        "id": "gtokc0VX0839"
      },
      "execution_count": null,
      "outputs": []
    }
  ]
}
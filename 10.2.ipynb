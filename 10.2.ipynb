{
  "nbformat": 4,
  "nbformat_minor": 0,
  "metadata": {
    "colab": {
      "provenance": [],
      "include_colab_link": true
    },
    "kernelspec": {
      "name": "python3",
      "display_name": "Python 3"
    },
    "language_info": {
      "name": "python"
    }
  },
  "cells": [
    {
      "cell_type": "markdown",
      "metadata": {
        "id": "view-in-github",
        "colab_type": "text"
      },
      "source": [
        "<a href=\"https://colab.research.google.com/github/ShawnDhillon1/167-DL/blob/main/10.2.ipynb\" target=\"_parent\"><img src=\"https://colab.research.google.com/assets/colab-badge.svg\" alt=\"Open In Colab\"/></a>"
      ]
    },
    {
      "cell_type": "markdown",
      "source": [
        "# **Notebook 10.2: Convolution for MNIST-1D**\n",
        "\n",
        "This notebook investigates a 1D convolutional network for MNIST-1D as in figure 10.7 and 10.8a.\n",
        "\n",
        "Work through the cells below, running each cell in turn. In various places you will see the words \"TODO\". Follow the instructions at these places and make predictions about what is going to happen or write code to complete the functions.\n",
        "\n",
        "Contact me at udlbookmail@gmail.com if you find any mistakes or have any suggestions.\n",
        "\n"
      ],
      "metadata": {
        "id": "t9vk9Elugvmi"
      }
    },
    {
      "cell_type": "code",
      "source": [
        "# Run this if you're in a Colab to install MNIST 1D repository\n",
        "!pip install git+https://github.com/greydanus/mnist1d"
      ],
      "metadata": {
        "id": "D5yLObtZCi9J",
        "colab": {
          "base_uri": "https://localhost:8080/"
        },
        "outputId": "1b9b4c3d-686e-4554-a747-27ccdf962d39"
      },
      "execution_count": 1,
      "outputs": [
        {
          "output_type": "stream",
          "name": "stdout",
          "text": [
            "Collecting git+https://github.com/greydanus/mnist1d\n",
            "  Cloning https://github.com/greydanus/mnist1d to /tmp/pip-req-build-mj5_ufsz\n",
            "  Running command git clone --filter=blob:none --quiet https://github.com/greydanus/mnist1d /tmp/pip-req-build-mj5_ufsz\n",
            "  Resolved https://github.com/greydanus/mnist1d to commit 7878d96082abd200c546a07a4101fa90b30fdf7e\n",
            "  Installing build dependencies ... \u001b[?25l\u001b[?25hdone\n",
            "  Getting requirements to build wheel ... \u001b[?25l\u001b[?25hdone\n",
            "  Preparing metadata (pyproject.toml) ... \u001b[?25l\u001b[?25hdone\n",
            "Requirement already satisfied: requests in /usr/local/lib/python3.12/dist-packages (from mnist1d==0.0.2.post16) (2.32.4)\n",
            "Requirement already satisfied: numpy in /usr/local/lib/python3.12/dist-packages (from mnist1d==0.0.2.post16) (2.0.2)\n",
            "Requirement already satisfied: matplotlib in /usr/local/lib/python3.12/dist-packages (from mnist1d==0.0.2.post16) (3.10.0)\n",
            "Requirement already satisfied: scipy in /usr/local/lib/python3.12/dist-packages (from mnist1d==0.0.2.post16) (1.16.3)\n",
            "Requirement already satisfied: contourpy>=1.0.1 in /usr/local/lib/python3.12/dist-packages (from matplotlib->mnist1d==0.0.2.post16) (1.3.3)\n",
            "Requirement already satisfied: cycler>=0.10 in /usr/local/lib/python3.12/dist-packages (from matplotlib->mnist1d==0.0.2.post16) (0.12.1)\n",
            "Requirement already satisfied: fonttools>=4.22.0 in /usr/local/lib/python3.12/dist-packages (from matplotlib->mnist1d==0.0.2.post16) (4.60.1)\n",
            "Requirement already satisfied: kiwisolver>=1.3.1 in /usr/local/lib/python3.12/dist-packages (from matplotlib->mnist1d==0.0.2.post16) (1.4.9)\n",
            "Requirement already satisfied: packaging>=20.0 in /usr/local/lib/python3.12/dist-packages (from matplotlib->mnist1d==0.0.2.post16) (25.0)\n",
            "Requirement already satisfied: pillow>=8 in /usr/local/lib/python3.12/dist-packages (from matplotlib->mnist1d==0.0.2.post16) (11.3.0)\n",
            "Requirement already satisfied: pyparsing>=2.3.1 in /usr/local/lib/python3.12/dist-packages (from matplotlib->mnist1d==0.0.2.post16) (3.2.5)\n",
            "Requirement already satisfied: python-dateutil>=2.7 in /usr/local/lib/python3.12/dist-packages (from matplotlib->mnist1d==0.0.2.post16) (2.9.0.post0)\n",
            "Requirement already satisfied: charset_normalizer<4,>=2 in /usr/local/lib/python3.12/dist-packages (from requests->mnist1d==0.0.2.post16) (3.4.4)\n",
            "Requirement already satisfied: idna<4,>=2.5 in /usr/local/lib/python3.12/dist-packages (from requests->mnist1d==0.0.2.post16) (3.11)\n",
            "Requirement already satisfied: urllib3<3,>=1.21.1 in /usr/local/lib/python3.12/dist-packages (from requests->mnist1d==0.0.2.post16) (2.5.0)\n",
            "Requirement already satisfied: certifi>=2017.4.17 in /usr/local/lib/python3.12/dist-packages (from requests->mnist1d==0.0.2.post16) (2025.10.5)\n",
            "Requirement already satisfied: six>=1.5 in /usr/local/lib/python3.12/dist-packages (from python-dateutil>=2.7->matplotlib->mnist1d==0.0.2.post16) (1.17.0)\n",
            "Building wheels for collected packages: mnist1d\n",
            "  Building wheel for mnist1d (pyproject.toml) ... \u001b[?25l\u001b[?25hdone\n",
            "  Created wheel for mnist1d: filename=mnist1d-0.0.2.post16-py3-none-any.whl size=14665 sha256=95cd9637e0cd78d11a0fd8c826674c9821b1af714d7cff3427693e2ff3eb9f8b\n",
            "  Stored in directory: /tmp/pip-ephem-wheel-cache-luk53t06/wheels/18/40/b6/29381fee9b4c80fdbc304d52bb065a7286bbcca5ca2b8737c0\n",
            "Successfully built mnist1d\n",
            "Installing collected packages: mnist1d\n",
            "Successfully installed mnist1d-0.0.2.post16\n"
          ]
        }
      ]
    },
    {
      "cell_type": "code",
      "source": [
        "import numpy as np\n",
        "import os\n",
        "import torch, torch.nn as nn\n",
        "from torch.utils.data import TensorDataset, DataLoader\n",
        "from torch.optim.lr_scheduler import StepLR\n",
        "import matplotlib.pyplot as plt\n",
        "import mnist1d\n",
        "import random"
      ],
      "metadata": {
        "id": "YrXWAH7sUWvU"
      },
      "execution_count": 2,
      "outputs": []
    },
    {
      "cell_type": "code",
      "source": [
        "args = mnist1d.data.get_dataset_args()\n",
        "data = mnist1d.data.get_dataset(args, path='./mnist1d_data.pkl', download=False, regenerate=False)\n",
        "\n",
        "# The training and test input and outputs are in\n",
        "# data['x'], data['y'], data['x_test'], and data['y_test']\n",
        "print(\"Examples in training set: {}\".format(len(data['y'])))\n",
        "print(\"Examples in test set: {}\".format(len(data['y_test'])))\n",
        "print(\"Length of each example: {}\".format(data['x'].shape[-1]))"
      ],
      "metadata": {
        "id": "twI72ZCrCt5z",
        "colab": {
          "base_uri": "https://localhost:8080/"
        },
        "outputId": "1324c509-ed27-4177-cd1e-179f51d20ce6"
      },
      "execution_count": 3,
      "outputs": [
        {
          "output_type": "stream",
          "name": "stdout",
          "text": [
            "Did or could not load data from ./mnist1d_data.pkl. Rebuilding dataset...\n",
            "Examples in training set: 4000\n",
            "Examples in test set: 1000\n",
            "Length of each example: 40\n"
          ]
        }
      ]
    },
    {
      "cell_type": "code",
      "source": [
        "# Load in the data\n",
        "train_data_x = data['x'].transpose()\n",
        "train_data_y = data['y']\n",
        "val_data_x = data['x_test'].transpose()\n",
        "val_data_y = data['y_test']\n",
        "# Print out sizes\n",
        "print(\"Train data: %d examples (columns), each of which has %d dimensions (rows)\"%((train_data_x.shape[1],train_data_x.shape[0])))\n",
        "print(\"Validation data: %d examples (columns), each of which has %d dimensions (rows)\"%((val_data_x.shape[1],val_data_x.shape[0])))"
      ],
      "metadata": {
        "id": "8bKADvLHbiV5",
        "colab": {
          "base_uri": "https://localhost:8080/"
        },
        "outputId": "41d69670-0b73-47a6-8de0-fe15ff97336f"
      },
      "execution_count": 4,
      "outputs": [
        {
          "output_type": "stream",
          "name": "stdout",
          "text": [
            "Train data: 4000 examples (columns), each of which has 40 dimensions (rows)\n",
            "Validation data: 1000 examples (columns), each of which has 40 dimensions (rows)\n"
          ]
        }
      ]
    },
    {
      "cell_type": "markdown",
      "source": [
        "Define the network"
      ],
      "metadata": {
        "id": "_sFvRDGrl4qe"
      }
    },
    {
      "cell_type": "code",
      "source": [
        "# There are 40 input dimensions and 10 output dimensions for this data\n",
        "# The inputs correspond to the 40 offsets in the MNIST1D template.\n",
        "D_i = 40\n",
        "# The outputs correspond to the 10 digits\n",
        "D_o = 10\n",
        "\n",
        "\n",
        "# TODO Create a model with the following layers\n",
        "# 1. Convolutional layer, (input=length 40 and 1 channel, kernel size 3, stride 2, padding=\"valid\", 15 output channels )\n",
        "# 2. ReLU\n",
        "# 3. Convolutional layer, (input=length 19 and 15 channels, kernel size 3, stride 2, padding=\"valid\", 15 output channels )\n",
        "# 4. ReLU\n",
        "# 5. Convolutional layer, (input=length 9 and 15 channels, kernel size 3, stride 2, padding=\"valid\", 15 output channels)\n",
        "# 6. ReLU\n",
        "# 7. Flatten (converts 4x15) to length 60\n",
        "# 8. Linear layer (input size = 60, output size = 10)\n",
        "# References:\n",
        "# https://pytorch.org/docs/1.13/generated/torch.nn.Conv1d.html?highlight=conv1d#torch.nn.Conv1d\n",
        "# https://pytorch.org/docs/stable/generated/torch.nn.Flatten.html\n",
        "# https://pytorch.org/docs/1.13/generated/torch.nn.Linear.html?highlight=linear#torch.nn.Linear\n",
        "\n",
        "# NOTE THAT THE CONVOLUTIONAL LAYERS NEED TO TAKE THE NUMBER OF INPUT CHANNELS AS A PARAMETER\n",
        "# AND NOT THE INPUT SIZE.\n",
        "\n",
        "# Replace the following function:\n",
        "model = nn.Sequential(\n",
        "    nn.Conv1d(in_channels=1, out_channels=15, kernel_size=3, stride=2, padding='valid'),\n",
        "    nn.ReLU(),\n",
        "    nn.Conv1d(in_channels=15, out_channels=15, kernel_size=3, stride=2, padding='valid'),\n",
        "    nn.ReLU(),\n",
        "    nn.Conv1d(in_channels=15, out_channels=15, kernel_size=3, stride=2, padding='valid'),\n",
        "    nn.ReLU(),\n",
        "    nn.Flatten(),\n",
        "    nn.Linear(60, D_o)\n",
        ")"
      ],
      "metadata": {
        "id": "FslroPJJffrh"
      },
      "execution_count": 5,
      "outputs": []
    },
    {
      "cell_type": "code",
      "source": [
        "# He initialization of weights\n",
        "def weights_init(layer_in):\n",
        "  if isinstance(layer_in, nn.Linear):\n",
        "    nn.init.kaiming_uniform_(layer_in.weight)\n",
        "    layer_in.bias.data.fill_(0.0)"
      ],
      "metadata": {
        "id": "YgLaex1pfhqz"
      },
      "execution_count": 6,
      "outputs": []
    },
    {
      "cell_type": "code",
      "source": [
        "# choose cross entropy loss function (equation 5.24 in the loss notes)\n",
        "loss_function = nn.CrossEntropyLoss()\n",
        "# construct SGD optimizer and initialize learning rate and momentum\n",
        "optimizer = torch.optim.SGD(model.parameters(), lr = 0.05, momentum=0.9)\n",
        "# object that decreases learning rate by half every 20 epochs\n",
        "scheduler = StepLR(optimizer, step_size=20, gamma=0.5)\n",
        "# create 100 dummy data points and store in data loader class\n",
        "x_train = torch.tensor(train_data_x.transpose().astype('float32'))\n",
        "y_train = torch.tensor(train_data_y.astype('long')).long()\n",
        "x_val= torch.tensor(val_data_x.transpose().astype('float32'))\n",
        "y_val = torch.tensor(val_data_y.astype('long')).long()\n",
        "\n",
        "# load the data into a class that creates the batches\n",
        "data_loader = DataLoader(TensorDataset(x_train,y_train), batch_size=100, shuffle=True, worker_init_fn=np.random.seed(1))\n",
        "\n",
        "# Initialize model weights\n",
        "model.apply(weights_init)\n",
        "\n",
        "# loop over the dataset n_epoch times\n",
        "n_epoch = 100\n",
        "# store the loss and the % correct at each epoch\n",
        "losses_train = np.zeros((n_epoch))\n",
        "errors_train = np.zeros((n_epoch))\n",
        "losses_val = np.zeros((n_epoch))\n",
        "errors_val = np.zeros((n_epoch))\n",
        "\n",
        "for epoch in range(n_epoch):\n",
        "  # loop over batches\n",
        "  for i, data in enumerate(data_loader):\n",
        "    # retrieve inputs and labels for this batch\n",
        "    x_batch, y_batch = data\n",
        "    # zero the parameter gradients\n",
        "    optimizer.zero_grad()\n",
        "    # forward pass -- calculate model output\n",
        "    pred = model(x_batch[:,None,:])\n",
        "    # compute the loss\n",
        "    loss = loss_function(pred, y_batch)\n",
        "    # backward pass\n",
        "    loss.backward()\n",
        "    # SGD update\n",
        "    optimizer.step()\n",
        "\n",
        "  # Run whole dataset to get statistics -- normally wouldn't do this\n",
        "  pred_train = model(x_train[:,None,:])\n",
        "  pred_val = model(x_val[:,None,:])\n",
        "  _, predicted_train_class = torch.max(pred_train.data, 1)\n",
        "  _, predicted_val_class = torch.max(pred_val.data, 1)\n",
        "  errors_train[epoch] = 100 - 100 * (predicted_train_class == y_train).float().sum() / len(y_train)\n",
        "  errors_val[epoch]= 100 - 100 * (predicted_val_class == y_val).float().sum() / len(y_val)\n",
        "  losses_train[epoch] = loss_function(pred_train, y_train).item()\n",
        "  losses_val[epoch]= loss_function(pred_val, y_val).item()\n",
        "  print(f'Epoch {epoch:5d}, train loss {losses_train[epoch]:.6f}, train error {errors_train[epoch]:3.2f},  val loss {losses_val[epoch]:.6f}, percent error {errors_val[epoch]:3.2f}')\n",
        "\n",
        "  # tell scheduler to consider updating learning rate\n",
        "  scheduler.step()\n",
        "\n",
        "# Plot the results\n",
        "fig, ax = plt.subplots()\n",
        "ax.plot(errors_train,'r-',label='train')\n",
        "ax.plot(errors_val,'b-',label='validation')\n",
        "ax.set_ylim(0,100); ax.set_xlim(0,n_epoch)\n",
        "ax.set_xlabel('Epoch'); ax.set_ylabel('Error')\n",
        "ax.set_title('Part I: Validation Result %3.2f'%(errors_val[-1]))\n",
        "ax.legend()\n",
        "plt.show()"
      ],
      "metadata": {
        "id": "NYw8I_3mmX5c",
        "colab": {
          "base_uri": "https://localhost:8080/",
          "height": 1000
        },
        "outputId": "635c9784-9201-45ce-d0d5-79eb714678c0"
      },
      "execution_count": 7,
      "outputs": [
        {
          "output_type": "stream",
          "name": "stdout",
          "text": [
            "Epoch     0, train loss 1.964616, train error 74.20,  val loss 1.994526, percent error 75.80\n",
            "Epoch     1, train loss 1.550501, train error 63.67,  val loss 1.544697, percent error 63.70\n",
            "Epoch     2, train loss 1.391194, train error 56.75,  val loss 1.399918, percent error 57.20\n",
            "Epoch     3, train loss 1.351476, train error 55.42,  val loss 1.377680, percent error 58.20\n",
            "Epoch     4, train loss 1.156595, train error 46.08,  val loss 1.171673, percent error 49.90\n",
            "Epoch     5, train loss 1.088437, train error 43.80,  val loss 1.096088, percent error 48.40\n",
            "Epoch     6, train loss 1.095437, train error 45.40,  val loss 1.102585, percent error 47.10\n",
            "Epoch     7, train loss 0.990057, train error 40.33,  val loss 1.028414, percent error 43.90\n",
            "Epoch     8, train loss 0.919353, train error 37.22,  val loss 0.955669, percent error 38.70\n",
            "Epoch     9, train loss 0.824579, train error 32.45,  val loss 0.872618, percent error 34.20\n",
            "Epoch    10, train loss 0.681264, train error 26.90,  val loss 0.734512, percent error 29.60\n",
            "Epoch    11, train loss 0.666908, train error 26.80,  val loss 0.732526, percent error 30.10\n",
            "Epoch    12, train loss 0.587460, train error 22.72,  val loss 0.668352, percent error 25.00\n",
            "Epoch    13, train loss 0.491832, train error 18.30,  val loss 0.589702, percent error 24.40\n",
            "Epoch    14, train loss 0.482262, train error 18.80,  val loss 0.581957, percent error 21.40\n",
            "Epoch    15, train loss 0.422054, train error 16.65,  val loss 0.528431, percent error 20.50\n",
            "Epoch    16, train loss 0.405143, train error 15.97,  val loss 0.516908, percent error 19.00\n",
            "Epoch    17, train loss 0.461991, train error 18.75,  val loss 0.587390, percent error 23.00\n",
            "Epoch    18, train loss 0.326970, train error 12.15,  val loss 0.434021, percent error 16.50\n",
            "Epoch    19, train loss 0.399645, train error 16.07,  val loss 0.515515, percent error 19.30\n",
            "Epoch    20, train loss 0.241981, train error 8.25,  val loss 0.385077, percent error 12.90\n",
            "Epoch    21, train loss 0.263433, train error 9.40,  val loss 0.418693, percent error 14.10\n",
            "Epoch    22, train loss 0.225936, train error 8.20,  val loss 0.386176, percent error 13.80\n",
            "Epoch    23, train loss 0.237095, train error 9.57,  val loss 0.384292, percent error 13.90\n",
            "Epoch    24, train loss 0.221361, train error 8.10,  val loss 0.394274, percent error 11.70\n",
            "Epoch    25, train loss 0.196788, train error 6.90,  val loss 0.388523, percent error 12.10\n",
            "Epoch    26, train loss 0.199965, train error 7.28,  val loss 0.372531, percent error 11.20\n",
            "Epoch    27, train loss 0.166344, train error 5.38,  val loss 0.354404, percent error 11.90\n",
            "Epoch    28, train loss 0.175365, train error 6.25,  val loss 0.354971, percent error 11.00\n",
            "Epoch    29, train loss 0.172111, train error 6.68,  val loss 0.345044, percent error 10.80\n",
            "Epoch    30, train loss 0.185080, train error 6.90,  val loss 0.404061, percent error 12.50\n",
            "Epoch    31, train loss 0.170871, train error 7.00,  val loss 0.366014, percent error 12.20\n",
            "Epoch    32, train loss 0.125481, train error 4.07,  val loss 0.354592, percent error 11.20\n",
            "Epoch    33, train loss 0.116635, train error 3.90,  val loss 0.322350, percent error 10.20\n",
            "Epoch    34, train loss 0.113454, train error 4.03,  val loss 0.326228, percent error 10.00\n",
            "Epoch    35, train loss 0.125759, train error 4.55,  val loss 0.320013, percent error 9.80\n",
            "Epoch    36, train loss 0.103724, train error 3.28,  val loss 0.314112, percent error 9.60\n",
            "Epoch    37, train loss 0.110804, train error 3.97,  val loss 0.342175, percent error 10.40\n",
            "Epoch    38, train loss 0.088735, train error 2.70,  val loss 0.323612, percent error 9.50\n",
            "Epoch    39, train loss 0.094966, train error 3.22,  val loss 0.327637, percent error 9.80\n",
            "Epoch    40, train loss 0.077468, train error 2.00,  val loss 0.324683, percent error 9.20\n",
            "Epoch    41, train loss 0.070607, train error 1.62,  val loss 0.325440, percent error 9.60\n",
            "Epoch    42, train loss 0.065968, train error 1.78,  val loss 0.326776, percent error 9.40\n",
            "Epoch    43, train loss 0.070253, train error 1.75,  val loss 0.324289, percent error 8.40\n",
            "Epoch    44, train loss 0.064646, train error 1.72,  val loss 0.330996, percent error 9.40\n",
            "Epoch    45, train loss 0.062973, train error 1.62,  val loss 0.334583, percent error 8.90\n",
            "Epoch    46, train loss 0.064825, train error 1.62,  val loss 0.342637, percent error 8.70\n",
            "Epoch    47, train loss 0.058553, train error 1.45,  val loss 0.337648, percent error 9.70\n",
            "Epoch    48, train loss 0.060640, train error 1.57,  val loss 0.335464, percent error 9.50\n",
            "Epoch    49, train loss 0.055870, train error 1.28,  val loss 0.333089, percent error 9.10\n",
            "Epoch    50, train loss 0.056711, train error 1.43,  val loss 0.352693, percent error 8.90\n",
            "Epoch    51, train loss 0.054462, train error 1.25,  val loss 0.347949, percent error 9.10\n",
            "Epoch    52, train loss 0.055038, train error 1.38,  val loss 0.356477, percent error 9.50\n",
            "Epoch    53, train loss 0.056137, train error 1.47,  val loss 0.358258, percent error 9.30\n",
            "Epoch    54, train loss 0.050048, train error 1.35,  val loss 0.349941, percent error 9.60\n",
            "Epoch    55, train loss 0.047402, train error 1.30,  val loss 0.349836, percent error 8.90\n",
            "Epoch    56, train loss 0.049872, train error 1.20,  val loss 0.355612, percent error 9.50\n",
            "Epoch    57, train loss 0.055117, train error 1.50,  val loss 0.352162, percent error 9.00\n",
            "Epoch    58, train loss 0.045902, train error 1.12,  val loss 0.364033, percent error 9.20\n",
            "Epoch    59, train loss 0.044869, train error 1.03,  val loss 0.351152, percent error 8.50\n",
            "Epoch    60, train loss 0.040549, train error 0.93,  val loss 0.353805, percent error 8.80\n",
            "Epoch    61, train loss 0.040278, train error 0.88,  val loss 0.364024, percent error 8.90\n",
            "Epoch    62, train loss 0.039572, train error 0.90,  val loss 0.362545, percent error 9.10\n",
            "Epoch    63, train loss 0.040374, train error 0.82,  val loss 0.359284, percent error 8.50\n",
            "Epoch    64, train loss 0.038218, train error 0.80,  val loss 0.366435, percent error 9.30\n",
            "Epoch    65, train loss 0.038264, train error 0.82,  val loss 0.366172, percent error 9.20\n",
            "Epoch    66, train loss 0.037152, train error 0.78,  val loss 0.370175, percent error 9.10\n",
            "Epoch    67, train loss 0.036868, train error 0.72,  val loss 0.372357, percent error 9.00\n",
            "Epoch    68, train loss 0.035591, train error 0.68,  val loss 0.371730, percent error 9.00\n",
            "Epoch    69, train loss 0.035345, train error 0.78,  val loss 0.374904, percent error 9.30\n",
            "Epoch    70, train loss 0.035660, train error 0.65,  val loss 0.369338, percent error 8.80\n",
            "Epoch    71, train loss 0.036420, train error 0.70,  val loss 0.381036, percent error 9.40\n",
            "Epoch    72, train loss 0.041915, train error 1.05,  val loss 0.390444, percent error 9.50\n",
            "Epoch    73, train loss 0.033726, train error 0.68,  val loss 0.384503, percent error 9.10\n",
            "Epoch    74, train loss 0.033047, train error 0.60,  val loss 0.382266, percent error 9.10\n",
            "Epoch    75, train loss 0.036962, train error 0.82,  val loss 0.384129, percent error 9.20\n",
            "Epoch    76, train loss 0.032165, train error 0.60,  val loss 0.375856, percent error 8.80\n",
            "Epoch    77, train loss 0.032742, train error 0.53,  val loss 0.385866, percent error 8.90\n",
            "Epoch    78, train loss 0.032705, train error 0.65,  val loss 0.388687, percent error 9.30\n",
            "Epoch    79, train loss 0.031977, train error 0.53,  val loss 0.388117, percent error 9.20\n",
            "Epoch    80, train loss 0.030348, train error 0.53,  val loss 0.389574, percent error 9.00\n",
            "Epoch    81, train loss 0.030202, train error 0.55,  val loss 0.389088, percent error 9.10\n",
            "Epoch    82, train loss 0.029708, train error 0.53,  val loss 0.390396, percent error 9.00\n",
            "Epoch    83, train loss 0.029712, train error 0.55,  val loss 0.388210, percent error 8.80\n",
            "Epoch    84, train loss 0.029732, train error 0.45,  val loss 0.393161, percent error 9.00\n",
            "Epoch    85, train loss 0.029305, train error 0.50,  val loss 0.393491, percent error 8.90\n",
            "Epoch    86, train loss 0.030337, train error 0.62,  val loss 0.394076, percent error 9.30\n",
            "Epoch    87, train loss 0.029007, train error 0.47,  val loss 0.394582, percent error 8.90\n",
            "Epoch    88, train loss 0.028644, train error 0.45,  val loss 0.393343, percent error 9.00\n",
            "Epoch    89, train loss 0.028436, train error 0.40,  val loss 0.393110, percent error 9.10\n",
            "Epoch    90, train loss 0.028453, train error 0.50,  val loss 0.395224, percent error 9.10\n",
            "Epoch    91, train loss 0.028291, train error 0.40,  val loss 0.397535, percent error 9.10\n",
            "Epoch    92, train loss 0.027914, train error 0.38,  val loss 0.398449, percent error 9.00\n",
            "Epoch    93, train loss 0.027978, train error 0.43,  val loss 0.399243, percent error 9.20\n",
            "Epoch    94, train loss 0.027720, train error 0.50,  val loss 0.397412, percent error 8.90\n",
            "Epoch    95, train loss 0.027519, train error 0.43,  val loss 0.400287, percent error 9.00\n",
            "Epoch    96, train loss 0.027255, train error 0.43,  val loss 0.402596, percent error 9.20\n",
            "Epoch    97, train loss 0.027208, train error 0.38,  val loss 0.401978, percent error 9.20\n",
            "Epoch    98, train loss 0.027125, train error 0.43,  val loss 0.404386, percent error 9.30\n",
            "Epoch    99, train loss 0.027998, train error 0.43,  val loss 0.406461, percent error 9.70\n"
          ]
        },
        {
          "output_type": "display_data",
          "data": {
            "text/plain": [
              "<Figure size 640x480 with 1 Axes>"
            ],
            "image/png": "[encoded data removed]"
          },
          "metadata": {}
        }
      ]
    }
  ]
}